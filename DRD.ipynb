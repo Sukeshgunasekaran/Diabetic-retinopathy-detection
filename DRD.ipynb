{
  "nbformat": 4,
  "nbformat_minor": 0,
  "metadata": {
    "colab": {
      "provenance": []
    },
    "kernelspec": {
      "name": "python3",
      "display_name": "Python 3"
    },
    "language_info": {
      "name": "python"
    }
  },
  "cells": [
    {
      "cell_type": "code",
      "execution_count": null,
      "metadata": {
        "colab": {
          "base_uri": "https://localhost:8080/"
        },
        "id": "yWMNiD6V8YZ5",
        "outputId": "905f60f0-69a7-4a37-bb5a-f7000d59939e"
      },
      "outputs": [
        {
          "output_type": "stream",
          "name": "stdout",
          "text": [
            "Collecting opendatasets\n",
            "  Downloading opendatasets-0.1.22-py3-none-any.whl (15 kB)\n",
            "Requirement already satisfied: tqdm in /usr/local/lib/python3.10/dist-packages (from opendatasets) (4.66.2)\n",
            "Requirement already satisfied: kaggle in /usr/local/lib/python3.10/dist-packages (from opendatasets) (1.5.16)\n",
            "Requirement already satisfied: click in /usr/local/lib/python3.10/dist-packages (from opendatasets) (8.1.7)\n",
            "Requirement already satisfied: six>=1.10 in /usr/local/lib/python3.10/dist-packages (from kaggle->opendatasets) (1.16.0)\n",
            "Requirement already satisfied: certifi in /usr/local/lib/python3.10/dist-packages (from kaggle->opendatasets) (2024.2.2)\n",
            "Requirement already satisfied: python-dateutil in /usr/local/lib/python3.10/dist-packages (from kaggle->opendatasets) (2.8.2)\n",
            "Requirement already satisfied: requests in /usr/local/lib/python3.10/dist-packages (from kaggle->opendatasets) (2.31.0)\n",
            "Requirement already satisfied: python-slugify in /usr/local/lib/python3.10/dist-packages (from kaggle->opendatasets) (8.0.4)\n",
            "Requirement already satisfied: urllib3 in /usr/local/lib/python3.10/dist-packages (from kaggle->opendatasets) (2.0.7)\n",
            "Requirement already satisfied: bleach in /usr/local/lib/python3.10/dist-packages (from kaggle->opendatasets) (6.1.0)\n",
            "Requirement already satisfied: webencodings in /usr/local/lib/python3.10/dist-packages (from bleach->kaggle->opendatasets) (0.5.1)\n",
            "Requirement already satisfied: text-unidecode>=1.3 in /usr/local/lib/python3.10/dist-packages (from python-slugify->kaggle->opendatasets) (1.3)\n",
            "Requirement already satisfied: charset-normalizer<4,>=2 in /usr/local/lib/python3.10/dist-packages (from requests->kaggle->opendatasets) (3.3.2)\n",
            "Requirement already satisfied: idna<4,>=2.5 in /usr/local/lib/python3.10/dist-packages (from requests->kaggle->opendatasets) (3.6)\n",
            "Installing collected packages: opendatasets\n",
            "Successfully installed opendatasets-0.1.22\n",
            "Requirement already satisfied: pandas in /usr/local/lib/python3.10/dist-packages (2.0.3)\n",
            "Requirement already satisfied: python-dateutil>=2.8.2 in /usr/local/lib/python3.10/dist-packages (from pandas) (2.8.2)\n",
            "Requirement already satisfied: pytz>=2020.1 in /usr/local/lib/python3.10/dist-packages (from pandas) (2023.4)\n",
            "Requirement already satisfied: tzdata>=2022.1 in /usr/local/lib/python3.10/dist-packages (from pandas) (2024.1)\n",
            "Requirement already satisfied: numpy>=1.21.0 in /usr/local/lib/python3.10/dist-packages (from pandas) (1.25.2)\n",
            "Requirement already satisfied: six>=1.5 in /usr/local/lib/python3.10/dist-packages (from python-dateutil>=2.8.2->pandas) (1.16.0)\n"
          ]
        }
      ],
      "source": [
        "!pip install opendatasets\n",
        "!pip install pandas"
      ]
    },
    {
      "cell_type": "code",
      "source": [
        "import opendatasets as od\n",
        "import pandas\n",
        "\n",
        "od.download(\"https://www.kaggle.com/datasets/sovitrath/diabetic-retinopathy-224x224-2019-data/\")"
      ],
      "metadata": {
        "colab": {
          "base_uri": "https://localhost:8080/"
        },
        "id": "zkyI1tqb8b9W",
        "outputId": "ab4b053f-6b18-4a12-c9fe-97f44f0d233a"
      },
      "execution_count": null,
      "outputs": [
        {
          "output_type": "stream",
          "name": "stdout",
          "text": [
            "Please provide your Kaggle credentials to download this dataset. Learn more: http://bit.ly/kaggle-creds\n",
            "Your Kaggle username: ryogeshwari\n",
            "Your Kaggle Key: ··········\n",
            "Downloading diabetic-retinopathy-224x224-2019-data.zip to ./diabetic-retinopathy-224x224-2019-data\n"
          ]
        },
        {
          "output_type": "stream",
          "name": "stderr",
          "text": [
            "100%|██████████| 238M/238M [00:02<00:00, 117MB/s]\n"
          ]
        },
        {
          "output_type": "stream",
          "name": "stdout",
          "text": [
            "\n"
          ]
        }
      ]
    },
    {
      "cell_type": "code",
      "source": [
        "import numpy as np\n",
        "import pandas as pd\n",
        "import tensorflow as tf\n",
        "from tensorflow.keras.preprocessing.image import ImageDataGenerator\n",
        "from tensorflow.keras.layers import Dense, GlobalAveragePooling2D\n",
        "from tensorflow.keras.models import Model\n",
        "from tensorflow.keras.applications import InceptionV3"
      ],
      "metadata": {
        "id": "ilpI7Vun85gb"
      },
      "execution_count": null,
      "outputs": []
    },
    {
      "cell_type": "code",
      "source": [
        "train_df = pd.read_csv('/content/diabetic-retinopathy-224x224-2019-data/train.csv')"
      ],
      "metadata": {
        "id": "5f7SFr1_9GRz"
      },
      "execution_count": null,
      "outputs": []
    },
    {
      "cell_type": "code",
      "source": [
        "print(train_df.head())\n",
        "print(train_df.columns)"
      ],
      "metadata": {
        "colab": {
          "base_uri": "https://localhost:8080/"
        },
        "id": "f4jrLuZS9tKe",
        "outputId": "7fdf1987-ad55-41c9-aeeb-8f5c2710fce1"
      },
      "execution_count": null,
      "outputs": [
        {
          "output_type": "stream",
          "name": "stdout",
          "text": [
            "        id_code  diagnosis\n",
            "0  000c1434d8d7          2\n",
            "1  001639a390f0          4\n",
            "2  0024cdab0c1e          1\n",
            "3  002c21358ce6          0\n",
            "4  005b95c28852          0\n",
            "Index(['id_code', 'diagnosis'], dtype='object')\n"
          ]
        }
      ]
    },
    {
      "cell_type": "code",
      "source": [
        "import os\n",
        "from tensorflow.keras.preprocessing.image import ImageDataGenerator\n",
        "\n",
        "# Directory containing the images\n",
        "image_directory = '/content/diabetic-retinopathy-224x224-2019-data/colored_images'\n",
        "\n",
        "# Create an ImageDataGenerator for data augmentation\n",
        "train_datagen = ImageDataGenerator(\n",
        "    rescale=1./255,\n",
        "    rotation_range=20,\n",
        "    width_shift_range=0.2,\n",
        "    height_shift_range=0.2,\n",
        "    shear_range=0.2,\n",
        "    zoom_range=0.2,\n",
        "    horizontal_flip=True,\n",
        "    fill_mode='nearest'\n",
        ")\n",
        "\n",
        "# Create the ImageDataGenerator\n",
        "train_generator = train_datagen.flow_from_directory(\n",
        "    directory=image_directory,\n",
        "    target_size=(224, 224),\n",
        "    batch_size=32,\n",
        "    class_mode='categorical'\n",
        ")"
      ],
      "metadata": {
        "colab": {
          "base_uri": "https://localhost:8080/"
        },
        "id": "paxKOz6__31T",
        "outputId": "7f0e2c80-1c5d-4827-b19e-1393f886ab61"
      },
      "execution_count": null,
      "outputs": [
        {
          "output_type": "stream",
          "name": "stdout",
          "text": [
            "Found 3662 images belonging to 5 classes.\n"
          ]
        }
      ]
    },
    {
      "cell_type": "markdown",
      "source": [
        "**CNN**"
      ],
      "metadata": {
        "id": "oBg4z1ntA5F9"
      }
    },
    {
      "cell_type": "code",
      "source": [
        "from tensorflow.keras.models import Sequential\n",
        "from tensorflow.keras.layers import Conv2D, MaxPooling2D, Flatten, Dense\n",
        "\n",
        "# Define your model architecture\n",
        "model = Sequential([\n",
        "    Conv2D(32, (3, 3), activation='relu', input_shape=(224, 224, 3)),\n",
        "    MaxPooling2D((2, 2)),\n",
        "    Conv2D(64, (3, 3), activation='relu'),\n",
        "    MaxPooling2D((2, 2)),\n",
        "    Conv2D(128, (3, 3), activation='relu'),\n",
        "    MaxPooling2D((2, 2)),\n",
        "    Flatten(),\n",
        "    Dense(128, activation='relu'),\n",
        "    Dense(5, activation='softmax')  # Assuming 5 classes for severity levels\n",
        "])\n",
        "\n",
        "# Compile the model\n",
        "history = model.compile(optimizer='adam', loss='categorical_crossentropy', metrics=['accuracy'])\n",
        "\n",
        "# Train the model\n",
        "history = model.fit(train_generator, epochs=10)\n"
      ],
      "metadata": {
        "colab": {
          "base_uri": "https://localhost:8080/"
        },
        "id": "3tqd9virAANv",
        "outputId": "3bce49ff-11d6-41f2-bcc7-486c1e89ee0e"
      },
      "execution_count": null,
      "outputs": [
        {
          "output_type": "stream",
          "name": "stdout",
          "text": [
            "Epoch 1/10\n",
            "115/115 [==============================] - 472s 4s/step - loss: 1.0685 - accuracy: 0.6103\n",
            "Epoch 2/10\n",
            "115/115 [==============================] - 472s 4s/step - loss: 0.8688 - accuracy: 0.7013\n",
            "Epoch 3/10\n",
            "115/115 [==============================] - 456s 4s/step - loss: 0.8445 - accuracy: 0.7054\n",
            "Epoch 4/10\n",
            "115/115 [==============================] - 454s 4s/step - loss: 0.8072 - accuracy: 0.7141\n",
            "Epoch 5/10\n",
            "115/115 [==============================] - 451s 4s/step - loss: 0.8157 - accuracy: 0.7119\n",
            "Epoch 6/10\n",
            "115/115 [==============================] - 464s 4s/step - loss: 0.8022 - accuracy: 0.7160\n",
            "Epoch 7/10\n",
            "115/115 [==============================] - 466s 4s/step - loss: 0.8053 - accuracy: 0.7130\n",
            "Epoch 8/10\n",
            "115/115 [==============================] - 466s 4s/step - loss: 0.7880 - accuracy: 0.7176\n",
            "Epoch 9/10\n",
            "115/115 [==============================] - 459s 4s/step - loss: 0.7877 - accuracy: 0.7163\n",
            "Epoch 10/10\n",
            "115/115 [==============================] - 457s 4s/step - loss: 0.7839 - accuracy: 0.7209\n"
          ]
        }
      ]
    },
    {
      "cell_type": "code",
      "source": [
        "model.summary()"
      ],
      "metadata": {
        "colab": {
          "base_uri": "https://localhost:8080/"
        },
        "id": "4KqZEwdIIat4",
        "outputId": "4629b7f1-1378-4016-d709-ca0071bb14d3"
      },
      "execution_count": null,
      "outputs": [
        {
          "output_type": "stream",
          "name": "stdout",
          "text": [
            "Model: \"sequential_1\"\n",
            "_________________________________________________________________\n",
            " Layer (type)                Output Shape              Param #   \n",
            "=================================================================\n",
            " conv2d_3 (Conv2D)           (None, 222, 222, 32)      896       \n",
            "                                                                 \n",
            " max_pooling2d_3 (MaxPoolin  (None, 111, 111, 32)      0         \n",
            " g2D)                                                            \n",
            "                                                                 \n",
            " conv2d_4 (Conv2D)           (None, 109, 109, 64)      18496     \n",
            "                                                                 \n",
            " max_pooling2d_4 (MaxPoolin  (None, 54, 54, 64)        0         \n",
            " g2D)                                                            \n",
            "                                                                 \n",
            " conv2d_5 (Conv2D)           (None, 52, 52, 128)       73856     \n",
            "                                                                 \n",
            " max_pooling2d_5 (MaxPoolin  (None, 26, 26, 128)       0         \n",
            " g2D)                                                            \n",
            "                                                                 \n",
            " flatten_1 (Flatten)         (None, 86528)             0         \n",
            "                                                                 \n",
            " dense_2 (Dense)             (None, 128)               11075712  \n",
            "                                                                 \n",
            " dense_3 (Dense)             (None, 5)                 645       \n",
            "                                                                 \n",
            "=================================================================\n",
            "Total params: 11169605 (42.61 MB)\n",
            "Trainable params: 11169605 (42.61 MB)\n",
            "Non-trainable params: 0 (0.00 Byte)\n",
            "_________________________________________________________________\n"
          ]
        }
      ]
    },
    {
      "cell_type": "code",
      "source": [
        "# Get accuracy\n",
        "accuracy = history.history['accuracy'][-1]\n",
        "print(\"Final training accuracy:\", accuracy)"
      ],
      "metadata": {
        "colab": {
          "base_uri": "https://localhost:8080/"
        },
        "id": "gcfXzN0XEOg9",
        "outputId": "44b94385-aac1-409c-96c6-3daae3cf1a1b"
      },
      "execution_count": null,
      "outputs": [
        {
          "output_type": "stream",
          "name": "stdout",
          "text": [
            "Final training accuracy: 0.7209175229072571\n"
          ]
        }
      ]
    },
    {
      "cell_type": "code",
      "source": [
        "import matplotlib.pyplot as plt\n",
        "# Plot training history\n",
        "plt.figure(figsize=(12, 5))\n",
        "\n",
        "# Plot training & validation accuracy values\n",
        "plt.subplot(1, 2, 1)\n",
        "plt.plot(history.history['accuracy'])\n",
        "plt.title('Model accuracy')\n",
        "plt.xlabel('Epoch')\n",
        "plt.ylabel('Accuracy')\n",
        "plt.legend(['Train'], loc='upper left')\n",
        "\n",
        "# Plot training & validation loss values\n",
        "plt.subplot(1, 2, 2)\n",
        "plt.plot(history.history['loss'])\n",
        "plt.title('Model loss')\n",
        "plt.xlabel('Epoch')\n",
        "plt.ylabel('Loss')\n",
        "plt.legend(['Train'], loc='upper left')\n",
        "\n",
        "plt.show()"
      ],
      "metadata": {
        "colab": {
          "base_uri": "https://localhost:8080/",
          "height": 487
        },
        "id": "u4oznGwWBEUt",
        "outputId": "e9d5e93e-c823-4ad4-c997-f1dffd6ced88"
      },
      "execution_count": null,
      "outputs": [
        {
          "output_type": "display_data",
          "data": {
            "text/plain": [
              "<Figure size 1200x500 with 2 Axes>"
            ],
            "image/png": "[encoded data removed]"
          },
          "metadata": {}
        }
      ]
    },
    {
      "cell_type": "markdown",
      "source": [
        "**CAPSULE NETWORKS**"
      ],
      "metadata": {
        "id": "10pAiy2RUOkJ"
      }
    },
    {
      "cell_type": "code",
      "source": [
        "from tensorflow.keras import layers, models\n",
        "from tensorflow.keras import layers\n",
        "\n",
        "def CapsuleNet(input_shape, num_classes, routings):\n",
        "    \"\"\"\n",
        "    Capsule Network architecture for diabetic retinopathy detection.\n",
        "\n",
        "    Args:\n",
        "    - input_shape: Tuple. Shape of the input image.\n",
        "    - num_classes: Integer. Number of output classes.\n",
        "    - routings: Integer. Number of routing iterations.\n",
        "\n",
        "    Returns:\n",
        "    - A Keras Model instance.\n",
        "    \"\"\"\n",
        "    x = layers.Input(shape=input_shape)\n",
        "\n",
        "    # First convolutional layer\n",
        "    conv1 = layers.Conv2D(256, (3, 3), activation='relu', padding='valid')(x)\n",
        "\n",
        "    # Primary Capsule layer\n",
        "    primary_capsule = PrimaryCapsule(8, 32, 4, 9)(conv1)\n",
        "\n",
        "    # Digit Capsule layer\n",
        "    digit_capsule = CapsuleLayer(num_capsule=num_classes, dim_capsule=16, routings=routings)(primary_capsule)\n",
        "\n",
        "    # Flatten capsule output\n",
        "    flat_capsule = layers.Flatten()(digit_capsule)\n",
        "\n",
        "    # Output layer\n",
        "    output = layers.Dense(num_classes, activation='softmax')(flat_capsule)\n",
        "\n",
        "    # Create model\n",
        "    model = models.Model(inputs=x, outputs=output)\n",
        "    return model\n",
        "\n",
        "class PrimaryCapsule(layers.Layer):\n",
        "    \"\"\"\n",
        "    Primary Capsule layer.\n",
        "\n",
        "    Args:\n",
        "    - n_channels: Integer. Number of capsules in this layer.\n",
        "    - dim_capsule: Integer. Dimensionality of the output capsules.\n",
        "    - n_channels: Integer. Number of convolutional channels.\n",
        "    \"\"\"\n",
        "    def __init__(self, n_channels, dim_capsule, kernel_size, strides, padding='valid'):\n",
        "        super(PrimaryCapsule, self).__init__()\n",
        "        self.n_channels = n_channels\n",
        "        self.dim_capsule = dim_capsule\n",
        "        self.kernel_size = kernel_size\n",
        "        self.strides = strides\n",
        "        self.padding = padding\n",
        "\n",
        "    def build(self, input_shape):\n",
        "        self.conv2d = layers.Conv2D(self.n_channels * self.dim_capsule,\n",
        "                                     self.kernel_size,\n",
        "                                     strides=self.strides,\n",
        "                                     padding=self.padding)\n",
        "\n",
        "    def call(self, inputs):\n",
        "        outputs = self.conv2d(inputs)\n",
        "        outputs = layers.Reshape((-1, self.dim_capsule))(outputs)\n",
        "        return layers.Lambda(squash)(outputs)\n",
        "\n",
        "class CapsuleLayer(layers.Layer):\n",
        "    \"\"\"\n",
        "    Capsule layer.\n",
        "\n",
        "    Args:\n",
        "    - num_capsule: Integer. Number of capsules in this layer.\n",
        "    - dim_capsule: Integer. Dimensionality of the output capsules.\n",
        "    - routings: Integer. Number of routing iterations.\n",
        "    \"\"\"\n",
        "    def __init__(self, num_capsule, dim_capsule, routings=3):\n",
        "        super(CapsuleLayer, self).__init__()\n",
        "        self.num_capsule = num_capsule\n",
        "        self.dim_capsule = dim_capsule\n",
        "        self.routings = routings\n",
        "\n",
        "    def build(self, input_shape):\n",
        "        input_dim_capsule = input_shape[-1]\n",
        "        self.W = self.add_weight(shape=[1, input_dim_capsule,\n",
        "                                         self.num_capsule * self.dim_capsule],\n",
        "                                 initializer='glorot_uniform',\n",
        "                                 trainable=True)\n",
        "\n",
        "    def call(self, inputs):\n",
        "        inputs_expand = layers.ExpandDims(axis=-1)(inputs)\n",
        "        inputs_tiled = layers.Tile(self.num_capsule, 2)(inputs_expand)\n",
        "        inputs_hat = layers.Dot(-1)([inputs_tiled, self.W])\n",
        "        b = tf.zeros(shape=[tf.shape(inputs_hat)[0], inputs.shape[1], self.num_capsule])\n",
        "        assert self.routings > 0, 'The routings should be > 0.'\n",
        "        for i in range(self.routings):\n",
        "            c = tf.nn.softmax(b, axis=1)\n",
        "            outputs = squash(tf.reduce_sum(c * inputs_hat, axis=1, keepdims=True))\n",
        "            if i < self.routings - 1:\n",
        "                b += tf.reduce_sum(inputs_hat * outputs, axis=-1, keepdims=True)\n",
        "        return layers.Reshape((-1, self.dim_capsule))(outputs)\n",
        "\n",
        "def squash(vectors, axis=-1):\n",
        "    \"\"\"\n",
        "    Squashing function.\n",
        "\n",
        "    Args:\n",
        "    - vectors: Input tensor.\n",
        "    - axis: Integer. Axis along which to perform the squashing.\n",
        "\n",
        "    Returns:\n",
        "    - Tensor.\n",
        "    \"\"\"\n",
        "    squared_norm = tf.reduce_sum(tf.square(vectors), axis, keepdims=True)\n",
        "    safe_norm = tf.sqrt(squared_norm + 1e-7)\n",
        "    squash_factor = squared_norm / (1. + squared_norm)\n",
        "    unit_vector = vectors / safe_norm\n",
        "    return squash_factor * unit_vector\n",
        "\n",
        "# Define input shape and number of classes\n",
        "input_shape = (224, 224, 3)\n",
        "num_classes = 5  # Assuming 5 classes for diabetic retinopathy severity levels\n",
        "routings = 3  # Number of routing iterations\n",
        "\n",
        "# Create CapsuleNet model\n",
        "model2 = CapsuleNet(input_shape, num_classes, routings)\n",
        "\n",
        "# Compile the model\n",
        "history2 = model2.compile(optimizer='adam', loss='categorical_crossentropy', metrics=['accuracy'])\n"
      ],
      "metadata": {
        "id": "n1TohTcrBFdU"
      },
      "execution_count": null,
      "outputs": []
    },
    {
      "cell_type": "code",
      "source": [
        "# Print model summary\n",
        "model2.summary()"
      ],
      "metadata": {
        "id": "6Qtk-0NgUYW8"
      },
      "execution_count": null,
      "outputs": []
    }
  ]
}